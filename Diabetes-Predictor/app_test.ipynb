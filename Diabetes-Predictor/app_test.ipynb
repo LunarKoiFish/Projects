{
 "cells": [
  {
   "cell_type": "code",
   "execution_count": 2,
   "id": "8b17a1ce",
   "metadata": {},
   "outputs": [
    {
     "name": "stdout",
     "output_type": "stream",
     "text": [
      "Model type: <class 'sklearn.linear_model._logistic.LogisticRegression'>\n",
      "Has predict_proba: True\n",
      "Feature names: ['HighBP' 'HighChol' 'CholCheck' 'BMI' 'Smoker' 'Stroke'\n",
      " 'HeartDiseaseorAttack' 'PhysActivity' 'Fruits' 'Veggies'\n",
      " 'HvyAlcoholConsump' 'AnyHealthcare' 'NoDocbcCost' 'GenHlth' 'MentHlth'\n",
      " 'PhysHlth' 'DiffWalk' 'Sex' 'Age' 'Education' 'Income']\n"
     ]
    }
   ],
   "source": [
    "import pickle\n",
    "import numpy as np\n",
    "import joblib\n",
    "\n",
    "# Load the model\n",
    "with open(\"Resources/diabetes_logi_regress_model.pkl\", \"rb\") as f:\n",
    "    model = joblib.load(f)\n",
    "\n",
    "# Inspect model\n",
    "print(\"Model type:\", type(model))\n",
    "print(\"Has predict_proba:\", hasattr(model, \"predict_proba\"))\n",
    "print(\"Feature names:\", model.feature_names_in_)\n"
   ]
  },
  {
   "cell_type": "code",
   "execution_count": 3,
   "id": "c02dbcb5",
   "metadata": {},
   "outputs": [
    {
     "name": "stdout",
     "output_type": "stream",
     "text": [
      "High-risk prediction probability: 0.0700\n"
     ]
    },
    {
     "name": "stderr",
     "output_type": "stream",
     "text": [
      "c:\\Users\\David\\miniconda3\\Lib\\site-packages\\sklearn\\utils\\validation.py:2739: UserWarning: X does not have valid feature names, but LogisticRegression was fitted with feature names\n",
      "  warnings.warn(\n"
     ]
    }
   ],
   "source": [
    "# Build an input array with \"high risk\" choices\n",
    "# For now, just use 1s and max values assuming model expects that\n",
    "\n",
    "input_values = [\n",
    "    1,  # HighBP\n",
    "    1,  # HighChol\n",
    "    1,  # CholCheck\n",
    "    45.0,  # BMI (high)\n",
    "    1,  # Smoker\n",
    "    1,  # Stroke\n",
    "    1,  # HeartDiseaseorAttack\n",
    "    0,  # PhysActivity (lack of it = higher risk)\n",
    "    0,  # Fruits\n",
    "    0,  # Veggies\n",
    "    1,  # HvyAlcoholConsump\n",
    "    0,  # AnyHealthcare (no coverage)\n",
    "    1,  # NoDocbcCost\n",
    "    5,  # GenHlth (Poor)\n",
    "    30, # MentHlth\n",
    "    30, # PhysHlth\n",
    "    1,  # DiffWalk\n",
    "    1,  # Sex (Male)\n",
    "    13, # Age (80+)\n",
    "    1,  # Education (No School)\n",
    "    1   # Income (<$10K)\n",
    "]\n",
    "\n",
    "input_array = np.array(input_values).reshape(1, -1)\n",
    "\n",
    "# Predict\n",
    "if hasattr(model, \"predict_proba\"):\n",
    "    proba = model.predict_proba(input_array)[0][1]\n",
    "    print(f\"High-risk prediction probability: {proba:.4f}\")\n",
    "elif hasattr(model, \"predict\"):\n",
    "    result = model.predict(input_array)\n",
    "    print(\"Prediction result:\", result)\n",
    "else:\n",
    "    print(\"Model does not support prediction.\")\n"
   ]
  },
  {
   "cell_type": "code",
   "execution_count": null,
   "id": "b0352c69",
   "metadata": {},
   "outputs": [],
   "source": []
  },
  {
   "cell_type": "code",
   "execution_count": null,
   "id": "53960bc1",
   "metadata": {},
   "outputs": [],
   "source": []
  }
 ],
 "metadata": {
  "kernelspec": {
   "display_name": "Python (conda-base)",
   "language": "python",
   "name": "base"
  },
  "language_info": {
   "codemirror_mode": {
    "name": "ipython",
    "version": 3
   },
   "file_extension": ".py",
   "mimetype": "text/x-python",
   "name": "python",
   "nbconvert_exporter": "python",
   "pygments_lexer": "ipython3",
   "version": "3.13.2"
  }
 },
 "nbformat": 4,
 "nbformat_minor": 5
}
