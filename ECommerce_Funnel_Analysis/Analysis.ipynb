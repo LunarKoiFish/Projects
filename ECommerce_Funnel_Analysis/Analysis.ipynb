{
 "cells": [
  {
   "cell_type": "markdown",
   "id": "cc39aff8",
   "metadata": {},
   "source": [
    "Prepping Data"
   ]
  },
  {
   "cell_type": "code",
   "execution_count": null,
   "id": "b71c2631",
   "metadata": {},
   "outputs": [],
   "source": [
    "#import libraries\n",
    "import pandas as pd\n",
    "import matplotlib.pyplot as plt\n",
    "import seaborn as sns"
   ]
  },
  {
   "cell_type": "code",
   "execution_count": null,
   "id": "affa1f7c",
   "metadata": {},
   "outputs": [],
   "source": [
    "#convert excel to csv\n",
    "pd.read_excel('Resources/Online_Retail.xlsx').to_csv('Resources/OnlineRetail.csv', index=False)\n"
   ]
  },
  {
   "cell_type": "code",
   "execution_count": null,
   "id": "529cd798",
   "metadata": {},
   "outputs": [
    {
     "data": {
      "text/html": [
       "<div>\n",
       "<style scoped>\n",
       "    .dataframe tbody tr th:only-of-type {\n",
       "        vertical-align: middle;\n",
       "    }\n",
       "\n",
       "    .dataframe tbody tr th {\n",
       "        vertical-align: top;\n",
       "    }\n",
       "\n",
       "    .dataframe thead th {\n",
       "        text-align: right;\n",
       "    }\n",
       "</style>\n",
       "<table border=\"1\" class=\"dataframe\">\n",
       "  <thead>\n",
       "    <tr style=\"text-align: right;\">\n",
       "      <th></th>\n",
       "      <th>InvoiceNo</th>\n",
       "      <th>StockCode</th>\n",
       "      <th>Description</th>\n",
       "      <th>Quantity</th>\n",
       "      <th>InvoiceDate</th>\n",
       "      <th>UnitPrice</th>\n",
       "      <th>CustomerID</th>\n",
       "      <th>Country</th>\n",
       "    </tr>\n",
       "  </thead>\n",
       "  <tbody>\n",
       "    <tr>\n",
       "      <th>0</th>\n",
       "      <td>536365</td>\n",
       "      <td>85123A</td>\n",
       "      <td>WHITE HANGING HEART T-LIGHT HOLDER</td>\n",
       "      <td>6</td>\n",
       "      <td>2010-12-01 08:26:00</td>\n",
       "      <td>2.55</td>\n",
       "      <td>17850.0</td>\n",
       "      <td>United Kingdom</td>\n",
       "    </tr>\n",
       "    <tr>\n",
       "      <th>1</th>\n",
       "      <td>536365</td>\n",
       "      <td>71053</td>\n",
       "      <td>WHITE METAL LANTERN</td>\n",
       "      <td>6</td>\n",
       "      <td>2010-12-01 08:26:00</td>\n",
       "      <td>3.39</td>\n",
       "      <td>17850.0</td>\n",
       "      <td>United Kingdom</td>\n",
       "    </tr>\n",
       "    <tr>\n",
       "      <th>2</th>\n",
       "      <td>536365</td>\n",
       "      <td>84406B</td>\n",
       "      <td>CREAM CUPID HEARTS COAT HANGER</td>\n",
       "      <td>8</td>\n",
       "      <td>2010-12-01 08:26:00</td>\n",
       "      <td>2.75</td>\n",
       "      <td>17850.0</td>\n",
       "      <td>United Kingdom</td>\n",
       "    </tr>\n",
       "    <tr>\n",
       "      <th>3</th>\n",
       "      <td>536365</td>\n",
       "      <td>84029G</td>\n",
       "      <td>KNITTED UNION FLAG HOT WATER BOTTLE</td>\n",
       "      <td>6</td>\n",
       "      <td>2010-12-01 08:26:00</td>\n",
       "      <td>3.39</td>\n",
       "      <td>17850.0</td>\n",
       "      <td>United Kingdom</td>\n",
       "    </tr>\n",
       "    <tr>\n",
       "      <th>4</th>\n",
       "      <td>536365</td>\n",
       "      <td>84029E</td>\n",
       "      <td>RED WOOLLY HOTTIE WHITE HEART.</td>\n",
       "      <td>6</td>\n",
       "      <td>2010-12-01 08:26:00</td>\n",
       "      <td>3.39</td>\n",
       "      <td>17850.0</td>\n",
       "      <td>United Kingdom</td>\n",
       "    </tr>\n",
       "  </tbody>\n",
       "</table>\n",
       "</div>"
      ],
      "text/plain": [
       "  InvoiceNo StockCode                          Description  Quantity  \\\n",
       "0    536365    85123A   WHITE HANGING HEART T-LIGHT HOLDER         6   \n",
       "1    536365     71053                  WHITE METAL LANTERN         6   \n",
       "2    536365    84406B       CREAM CUPID HEARTS COAT HANGER         8   \n",
       "3    536365    84029G  KNITTED UNION FLAG HOT WATER BOTTLE         6   \n",
       "4    536365    84029E       RED WOOLLY HOTTIE WHITE HEART.         6   \n",
       "\n",
       "           InvoiceDate  UnitPrice  CustomerID         Country  \n",
       "0  2010-12-01 08:26:00       2.55     17850.0  United Kingdom  \n",
       "1  2010-12-01 08:26:00       3.39     17850.0  United Kingdom  \n",
       "2  2010-12-01 08:26:00       2.75     17850.0  United Kingdom  \n",
       "3  2010-12-01 08:26:00       3.39     17850.0  United Kingdom  \n",
       "4  2010-12-01 08:26:00       3.39     17850.0  United Kingdom  "
      ]
     },
     "execution_count": 5,
     "metadata": {},
     "output_type": "execute_result"
    }
   ],
   "source": [
    "#reading data\n",
    "retail_data = pd.read_csv('Resources/OnlineRetail.csv')\n",
    "retail_data.head()"
   ]
  },
  {
   "cell_type": "code",
   "execution_count": null,
   "id": "3b9d99cb",
   "metadata": {},
   "outputs": [],
   "source": [
    "#cleaning data where there are blank CustomerID\n",
    "retail_data = retail_data.dropna(subset=[\"CustomerID\"])"
   ]
  },
  {
   "cell_type": "code",
   "execution_count": 12,
   "id": "75cbf921",
   "metadata": {},
   "outputs": [],
   "source": [
    "#removing rows where order was canceled\n",
    "retail_data = retail_data[~retail_data['InvoiceNo'].astype(str).str.match(r'^C')]"
   ]
  },
  {
   "cell_type": "code",
   "execution_count": 20,
   "id": "376f3571",
   "metadata": {},
   "outputs": [
    {
     "name": "stderr",
     "output_type": "stream",
     "text": [
      "C:\\Users\\David\\AppData\\Local\\Temp\\ipykernel_10608\\557366582.py:2: SettingWithCopyWarning: \n",
      "A value is trying to be set on a copy of a slice from a DataFrame.\n",
      "Try using .loc[row_indexer,col_indexer] = value instead\n",
      "\n",
      "See the caveats in the documentation: https://pandas.pydata.org/pandas-docs/stable/user_guide/indexing.html#returning-a-view-versus-a-copy\n",
      "  retail_data['InvoiceDate'] = pd.to_datetime(retail_data['InvoiceDate'])\n"
     ]
    }
   ],
   "source": [
    "#convert Invoicedate to datetime\n",
    "retail_data['InvoiceDate'] = pd.to_datetime(retail_data['InvoiceDate'])"
   ]
  },
  {
   "cell_type": "markdown",
   "id": "6e608d92",
   "metadata": {},
   "source": [
    "Funnel Analysis"
   ]
  },
  {
   "cell_type": "code",
   "execution_count": 21,
   "id": "e77c0f1d",
   "metadata": {},
   "outputs": [],
   "source": [
    "# Step 1: Add to cart = any valid invoice (Quantity >= 1)\n",
    "invoice_qty = retail_data.groupby(['InvoiceNo', 'CustomerID'])['Quantity'].sum().reset_index()\n",
    "step1 = invoice_qty[invoice_qty['Quantity'] >= 1][['CustomerID']].drop_duplicates()\n",
    "step1['funnel_step'] = 'Added to Cart'"
   ]
  },
  {
   "cell_type": "code",
   "execution_count": 24,
   "id": "21bca3de",
   "metadata": {},
   "outputs": [],
   "source": [
    "# Step 2: Start checkout = order total > $100\n",
    "invoice_total = retail_data.assign(Total=retail_data['Quantity'] * retail_data['UnitPrice'])\n",
    "grouped_total = invoice_total.groupby(['InvoiceNo', 'CustomerID'])['Total'].sum().reset_index()\n",
    "step2 = grouped_total[grouped_total['Total'] > 100][['CustomerID']].drop_duplicates()\n",
    "step2['funnel_step'] = 'Started Checkout'"
   ]
  },
  {
   "cell_type": "code",
   "execution_count": 26,
   "id": "32d1c91f",
   "metadata": {},
   "outputs": [],
   "source": [
    "# Step 3: Complete purchase = all non-cancel orders (same as step 1 in this dataset)\n",
    "step3 = retail_data[['CustomerID']].drop_duplicates()\n",
    "step3['funnel_step'] = 'Completed Purchase'"
   ]
  },
  {
   "cell_type": "code",
   "execution_count": 27,
   "id": "c0e0bbf4",
   "metadata": {},
   "outputs": [],
   "source": [
    "# Combine all steps\n",
    "df_funnel = pd.concat([step1, step2, step3])\n",
    "funnel_counts = df_funnel.groupby('funnel_step')['CustomerID'].nunique().reindex(\n",
    "    ['Added to Cart', 'Started Checkout', 'Completed Purchase']\n",
    ").reset_index()"
   ]
  },
  {
   "cell_type": "code",
   "execution_count": 28,
   "id": "f3df50fa",
   "metadata": {},
   "outputs": [
    {
     "name": "stderr",
     "output_type": "stream",
     "text": [
      "C:\\Users\\David\\AppData\\Local\\Temp\\ipykernel_10608\\921852863.py:2: FutureWarning: \n",
      "\n",
      "Passing `palette` without assigning `hue` is deprecated and will be removed in v0.14.0. Assign the `x` variable to `hue` and set `legend=False` for the same effect.\n",
      "\n",
      "  sns.barplot(data=funnel_counts, x='funnel_step', y='CustomerID', palette='Blues_d')\n"
     ]
    },
    {
     "data": {
      "image/png": "[encoded data removed]",
      "text/plain": [
       "<Figure size 1000x600 with 1 Axes>"
      ]
     },
     "metadata": {},
     "output_type": "display_data"
    }
   ],
   "source": [
    "plt.figure(figsize=(10,6))\n",
    "sns.barplot(data=funnel_counts, x='funnel_step', y='CustomerID', palette='Blues_d')\n",
    "plt.title('User Funnel Analysis')\n",
    "plt.ylabel('Number of Unique Customers')\n",
    "plt.xlabel('Funnel Step')\n",
    "plt.show()"
   ]
  }
 ],
 "metadata": {
  "kernelspec": {
   "display_name": "Python (conda-base)",
   "language": "python",
   "name": "base"
  },
  "language_info": {
   "codemirror_mode": {
    "name": "ipython",
    "version": 3
   },
   "file_extension": ".py",
   "mimetype": "text/x-python",
   "name": "python",
   "nbconvert_exporter": "python",
   "pygments_lexer": "ipython3",
   "version": "3.13.2"
  }
 },
 "nbformat": 4,
 "nbformat_minor": 5
}
